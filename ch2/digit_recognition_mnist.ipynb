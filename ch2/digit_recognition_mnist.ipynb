{
  "nbformat": 4,
  "nbformat_minor": 0,
  "metadata": {
    "colab": {
      "provenance": [],
      "authorship_tag": "ABX9TyPmgl04cqvRmT47vshcZgNg",
      "include_colab_link": true
    },
    "kernelspec": {
      "name": "python3",
      "display_name": "Python 3"
    },
    "language_info": {
      "name": "python"
    }
  },
  "cells": [
    {
      "cell_type": "markdown",
      "metadata": {
        "id": "view-in-github",
        "colab_type": "text"
      },
      "source": [
        "<a href=\"https://colab.research.google.com/github/pranavpatnaik1/Deep-Learning-Projects-Using-TensorFlow-2/blob/main/ch2/digit_recognition_mnist.ipynb\" target=\"_parent\"><img src=\"https://colab.research.google.com/assets/colab-badge.svg\" alt=\"Open In Colab\"/></a>"
      ]
    },
    {
      "cell_type": "markdown",
      "source": [
        "#Training a Model for Digit Recognition: MNIST"
      ],
      "metadata": {
        "id": "NpI7TIIyUyg-"
      }
    },
    {
      "cell_type": "markdown",
      "source": [
        "Here, we'll cover how we can train a model via MNIST to perform digit recognition. It's fairly simple and is rather inexpensive."
      ],
      "metadata": {
        "id": "K7reSu1IWCVM"
      }
    },
    {
      "cell_type": "markdown",
      "source": [
        "Importing modules: Keras, Tensorflow"
      ],
      "metadata": {
        "id": "fatHlegdTt18"
      }
    },
    {
      "cell_type": "code",
      "execution_count": 1,
      "metadata": {
        "id": "z8PvQ-clToCZ"
      },
      "outputs": [],
      "source": [
        "import keras\n",
        "import tensorflow as tf"
      ]
    },
    {
      "cell_type": "markdown",
      "source": [
        "Next, we'll read in the data. Since Keras comes pre-loaded with MNIST, we'll use that."
      ],
      "metadata": {
        "id": "vq2uvZuhT3e8"
      }
    },
    {
      "cell_type": "code",
      "source": [
        "mnist=tf.keras.datasets.mnist\n",
        "\n",
        "# split data\n",
        "(x_train, y_train), (x_test, y_test) = mnist.load_data()\n",
        "\n",
        "# flattening data\n",
        "x_train, x_test = x_train / 225.0, x_test / 255.0"
      ],
      "metadata": {
        "id": "bKakIduGT9KD"
      },
      "execution_count": 3,
      "outputs": []
    },
    {
      "cell_type": "markdown",
      "source": [
        "Moving on, we're creating the neural network via the *Sequential* module. The loss function will be Sparse Categorical Cross Entropy (for 10 options: 0, 1, 2, 3, 4, 5, 6, 7, 8, 9). Moreover, we'll use the Adam optimizer."
      ],
      "metadata": {
        "id": "VVBUykVtUg1r"
      }
    },
    {
      "cell_type": "code",
      "source": [
        "digit = tf.keras.models.Sequential([\n",
        "    tf.keras.layers.Flatten(input_shape=(28,28)),\n",
        "    tf.keras.layers.Dense(10, activation=tf.nn.softmax)\n",
        "])\n",
        "\n",
        "# compiling model\n",
        "digit.compile(optimizer='adam',\n",
        "              loss='sparse_categorical_crossentropy',\n",
        "              metrics=['accuracy'])"
      ],
      "metadata": {
        "colab": {
          "base_uri": "https://localhost:8080/"
        },
        "id": "HKfOGAmAUSWQ",
        "outputId": "eab6a6f3-14eb-4d03-e991-ff4a6593bd5b"
      },
      "execution_count": 4,
      "outputs": [
        {
          "output_type": "stream",
          "name": "stderr",
          "text": [
            "/usr/local/lib/python3.10/dist-packages/keras/src/layers/reshaping/flatten.py:37: UserWarning: Do not pass an `input_shape`/`input_dim` argument to a layer. When using Sequential models, prefer using an `Input(shape)` object as the first layer in the model instead.\n",
            "  super().__init__(**kwargs)\n"
          ]
        }
      ]
    },
    {
      "cell_type": "markdown",
      "source": [
        "Training the model:"
      ],
      "metadata": {
        "id": "4jgqO3XfT80V"
      }
    },
    {
      "cell_type": "code",
      "source": [
        "digit.fit(x_train, y_train, epochs=3)"
      ],
      "metadata": {
        "colab": {
          "base_uri": "https://localhost:8080/"
        },
        "id": "fXdQnPZ6VeCG",
        "outputId": "0427e790-8b1d-43af-9edf-097f8643f57f"
      },
      "execution_count": 5,
      "outputs": [
        {
          "output_type": "stream",
          "name": "stdout",
          "text": [
            "Epoch 1/3\n",
            "\u001b[1m1875/1875\u001b[0m \u001b[32m━━━━━━━━━━━━━━━━━━━━\u001b[0m\u001b[37m\u001b[0m \u001b[1m3s\u001b[0m 1ms/step - accuracy: 0.8171 - loss: 0.6804\n",
            "Epoch 2/3\n",
            "\u001b[1m1875/1875\u001b[0m \u001b[32m━━━━━━━━━━━━━━━━━━━━\u001b[0m\u001b[37m\u001b[0m \u001b[1m3s\u001b[0m 1ms/step - accuracy: 0.9169 - loss: 0.2999\n",
            "Epoch 3/3\n",
            "\u001b[1m1875/1875\u001b[0m \u001b[32m━━━━━━━━━━━━━━━━━━━━\u001b[0m\u001b[37m\u001b[0m \u001b[1m4s\u001b[0m 2ms/step - accuracy: 0.9196 - loss: 0.2815\n"
          ]
        },
        {
          "output_type": "execute_result",
          "data": {
            "text/plain": [
              "<keras.src.callbacks.history.History at 0x7c071bd453c0>"
            ]
          },
          "metadata": {},
          "execution_count": 5
        }
      ]
    },
    {
      "cell_type": "markdown",
      "source": [
        "Finally, let's evaluate the model"
      ],
      "metadata": {
        "id": "GezJgK-oVkLS"
      }
    },
    {
      "cell_type": "code",
      "source": [
        "digit.evaluate(x_test, y_test)"
      ],
      "metadata": {
        "colab": {
          "base_uri": "https://localhost:8080/"
        },
        "id": "aR3HNhQfVtxD",
        "outputId": "e655d65e-b30a-4442-fa80-63be7e8a9d88"
      },
      "execution_count": 6,
      "outputs": [
        {
          "output_type": "stream",
          "name": "stdout",
          "text": [
            "\u001b[1m313/313\u001b[0m \u001b[32m━━━━━━━━━━━━━━━━━━━━\u001b[0m\u001b[37m\u001b[0m \u001b[1m1s\u001b[0m 1ms/step - accuracy: 0.9141 - loss: 0.3182\n"
          ]
        },
        {
          "output_type": "execute_result",
          "data": {
            "text/plain": [
              "[0.2811993360519409, 0.9239000082015991]"
            ]
          },
          "metadata": {},
          "execution_count": 6
        }
      ]
    },
    {
      "cell_type": "markdown",
      "source": [
        "With simply 3 epochs (3 full runthroughs), we've achieved an accuracy score of 92%. Pretty great, yeah?\n",
        "\n",
        "That's it for digit recognition via MNIST. Hope that helps!\n",
        "\n",
        "\n",
        "-Pranav"
      ],
      "metadata": {
        "id": "83J-NYSdVncM"
      }
    }
  ]
}